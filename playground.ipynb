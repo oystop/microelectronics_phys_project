{
 "cells": [
  {
   "cell_type": "markdown",
   "metadata": {},
   "source": [
    "### Заметки:\n",
    "\n",
    "#### Нам\n",
    "\n",
    "- Попросить у лектора примеры значений всех выдаваемых величин и результатов (хотя бы по порядку величины)\n",
    "\n",
    "- N_d, N_d0 ??? (относительно семинара)\n",
    "\n",
    "- В чем измеряется диэлектрическая проницаемость?\n",
    "\n",
    "- \n",
    "\n",
    "#### В fompy\n",
    "\n",
    "- Почему нет спиновой двойки в выражении для Nd+ (В семинаре есть) \n",
    "- Откуда отсчитывается E донора?"
   ]
  },
  {
   "cell_type": "code",
   "execution_count": 1,
   "metadata": {},
   "outputs": [],
   "source": [
    "import math\n",
    "from fompy import constants\n",
    "from fompy import functions\n",
    "from fompy import materials\n",
    "from fompy import models\n",
    "from fompy import units\n",
    "from fompy import util"
   ]
  },
  {
   "cell_type": "markdown",
   "metadata": {},
   "source": [
    "Входные данные"
   ]
  },
  {
   "cell_type": "code",
   "execution_count": 12,
   "metadata": {},
   "outputs": [],
   "source": [
    "#условия\n",
    "T = 300 #Температура, K\n",
    "E_out = 0 #Внешнее поле, B/м\n",
    "\n",
    "#полупроводник\n",
    "E_gap = 1.12 * constants.eV #Между валентной зоной и зоной проводимости, эрг\n",
    "epsilon = 11.7 #диэлекрическая проницаемость\n",
    "m_h = 0.81 * constants.me #эффективаная масса дырок, г\n",
    "m_e = 0.36 * constants.me #эффективная масса электронов, г\n",
    "\n",
    "#легирование (доноры)\n",
    "E_d = 0 #положение уровня донора (от дна зоны проводимости!)\n",
    "N_d0 = 0 #концентрация доноров\n",
    "\n",
    "#поверхностные акцепторы\n",
    "N_as = 0 #плотность поверхностных акцепторов\n",
    "E_as = 0 #их положение уровня энергии"
   ]
  },
  {
   "cell_type": "markdown",
   "metadata": {},
   "source": [
    "Создаю наш полупроводник"
   ]
  },
  {
   "cell_type": "code",
   "execution_count": 14,
   "metadata": {},
   "outputs": [],
   "source": [
    "pure_scond = models.Semiconductor(m_e, m_h, E_gap, chi=None, eps=epsilon)\n",
    "doped = models.DopedSemiconductor(mat=pure_scond, Na=0, Ea=0, Nd=N_d0, Ed=E_d)\n"
   ]
  },
  {
   "cell_type": "markdown",
   "metadata": {},
   "source": [
    "1. Сначала находим эффективную плотность состояний для электронов и дырок\n",
    "\n",
    "\n",
    "Формула лектора: \n",
    "\n",
    "$$N_{C(V)} = 2.51\\cdot 10^{18} (\\frac{m_{C(V)}}{m_0})^{3/2} (\\frac{T}{300})^{3/2} \\cdot cm^{-3}$$\n",
    "\n",
    "Формула fompy:\n",
    "\n",
    "$$N_{C(V)} = 2 \\left( \\frac{2 \\pi m_{C(V)} k T }{ (2 \\pi \\hbar)^2 } \\right)^{3/2} \\cdot cm^{-3}$$\n",
    "\n",
    "\n",
    "*Сходится по обеим формулам*"
   ]
  },
  {
   "cell_type": "code",
   "execution_count": 21,
   "metadata": {},
   "outputs": [
    {
     "data": {
      "text/plain": [
       "(5.4154558360038e+18, 1.8277163446512824e+19)"
      ]
     },
     "execution_count": 21,
     "metadata": {},
     "output_type": "execute_result"
    }
   ],
   "source": [
    "N_c = doped.Nc(T) #cm^-3\n",
    "N_v = doped.Nv(T) #cm^-3\n",
    "N_c, N_v"
   ]
  },
  {
   "cell_type": "markdown",
   "metadata": {},
   "source": [
    "2. Находим положение уровня Ферми в квазинейтральном объеме из условия электронейтральности. Формулы лектора:\n",
    "$$N_d^+ + p = n$$\n",
    "\n",
    "$$n = N_c \\cdot e^{\\frac{E_f - E_g}{kT}}$$\n",
    "$$p = N_v \\cdot e^{\\frac{-E_f}{kT}}$$\n",
    "\n",
    "$$N_d^+ = N_{d0} \\frac{1}{1 + e^{\\frac{E_g - E_d - E_f}{kT}}}$$\n",
    "\n",
    "Формулы fompy:\n",
    "\n",
    "$$N_d^+ = N_d \\cdot (1 - f(E_d))$$\n",
    "\n",
    "$$n = N_c(T) \\Phi_{1/2}\\left( \\frac{ E_f - E_g }{ k T } \\right)$$\n",
    "\n",
    "$$n_p = N_v(T) \\Phi_{1/2}\\left( \\frac{ - E_f }{ k T } \\right)$$\n",
    "\n",
    "$$p + N_d^{+} - n - N_a^{-} = 0$$"
   ]
  },
  {
   "cell_type": "code",
   "execution_count": 25,
   "metadata": {
    "scrolled": true
   },
   "outputs": [
    {
     "data": {
      "text/plain": [
       "0.5757279968261719"
      ]
     },
     "execution_count": 25,
     "metadata": {},
     "output_type": "execute_result"
    }
   ],
   "source": [
    "E_f = doped.fermi_level(T)\n",
    "E_f/constants.eV"
   ]
  },
  {
   "cell_type": "markdown",
   "metadata": {},
   "source": [
    "Пока не ввели параметры примеси, совпадает со значением для чистого:"
   ]
  },
  {
   "cell_type": "code",
   "execution_count": 27,
   "metadata": {},
   "outputs": [
    {
     "data": {
      "text/plain": [
       "0.5757279968261719"
      ]
     },
     "execution_count": 27,
     "metadata": {},
     "output_type": "execute_result"
    }
   ],
   "source": [
    "pure_scond.fermi_level(T)/constants.eV"
   ]
  },
  {
   "cell_type": "code",
   "execution_count": null,
   "metadata": {},
   "outputs": [],
   "source": []
  }
 ],
 "metadata": {
  "kernelspec": {
   "display_name": "Python 3",
   "language": "python",
   "name": "python3"
  },
  "language_info": {
   "codemirror_mode": {
    "name": "ipython",
    "version": 3
   },
   "file_extension": ".py",
   "mimetype": "text/x-python",
   "name": "python",
   "nbconvert_exporter": "python",
   "pygments_lexer": "ipython3",
   "version": "3.8.5"
  }
 },
 "nbformat": 4,
 "nbformat_minor": 4
}
